{
  "nbformat": 4,
  "nbformat_minor": 0,
  "metadata": {
    "colab": {
      "name": "Pattern Programming- Star Patterns",
      "provenance": [],
      "collapsed_sections": []
    },
    "kernelspec": {
      "name": "python3",
      "display_name": "Python 3"
    },
    "language_info": {
      "name": "python"
    }
  },
  "cells": [
    {
      "cell_type": "code",
      "execution_count": null,
      "metadata": {
        "id": "bcxuJGLJbPJk",
        "colab": {
          "base_uri": "https://localhost:8080/"
        },
        "outputId": "e09b0dd4-5b03-4951-e8fd-a2fdc5312522"
      },
      "outputs": [
        {
          "output_type": "stream",
          "name": "stdout",
          "text": [
            "Enter the number of rows you want: 5\n",
            "* \n",
            "* * \n",
            "* * * \n",
            "* * * * \n",
            "* * * * * \n"
          ]
        }
      ],
      "source": [
        "# Pattern 1\n",
        "\n",
        "rows = int(input('Enter the number of rows you want: '))\n",
        "for i in range(rows):\n",
        "  for j in range(i+1):\n",
        "    print('*', end = \" \")\n",
        "  print()"
      ]
    },
    {
      "cell_type": "code",
      "source": [
        " # Pattern 2\n",
        "\n",
        "rows = int(input('Enter the number of rows you want: '))\n",
        "for i in range(rows):\n",
        "  for j in range(i*2+1):\n",
        "    print(\"*\", end = \" \")\n",
        "  print()"
      ],
      "metadata": {
        "colab": {
          "base_uri": "https://localhost:8080/"
        },
        "id": "xK9KcMefwjid",
        "outputId": "5f517776-9548-4c61-e186-cfc5a8c04bbe"
      },
      "execution_count": null,
      "outputs": [
        {
          "output_type": "stream",
          "name": "stdout",
          "text": [
            "Enter the number of rows you want: 5\n",
            "* \n",
            "* * * \n",
            "* * * * * \n",
            "* * * * * * * \n",
            "* * * * * * * * * \n"
          ]
        }
      ]
    },
    {
      "cell_type": "code",
      "source": [
        "# Pattern 3\n",
        "\n",
        "rows = int(input('Enter the number of rows you want: '))\n",
        "for i in range(rows):\n",
        "  for j in range(rows-i):\n",
        "    print(\"*\", end = \" \")\n",
        "  print()"
      ],
      "metadata": {
        "colab": {
          "base_uri": "https://localhost:8080/"
        },
        "id": "FOMcallMzutY",
        "outputId": "09377117-8c17-49ef-b56f-cee906948d8f"
      },
      "execution_count": null,
      "outputs": [
        {
          "output_type": "stream",
          "name": "stdout",
          "text": [
            "Enter the number of rows you want: 5\n",
            "* * * * * \n",
            "* * * * \n",
            "* * * \n",
            "* * \n",
            "* \n"
          ]
        }
      ]
    },
    {
      "cell_type": "code",
      "source": [
        "# Pattern 4\n",
        "\n",
        "rows = int(input('Enter the number of rows you want: '))\n",
        "for i in range(rows):\n",
        "  for j in range((rows*2)-(i*2+1)):\n",
        "    print(\"*\", end = \" \")\n",
        "  print()"
      ],
      "metadata": {
        "colab": {
          "base_uri": "https://localhost:8080/"
        },
        "id": "QieWTphf12EX",
        "outputId": "6d657137-b474-4005-e7dd-c06645e23fb0"
      },
      "execution_count": null,
      "outputs": [
        {
          "output_type": "stream",
          "name": "stdout",
          "text": [
            "Enter the number of rows you want: 5\n",
            "* * * * * * * * * \n",
            "* * * * * * * \n",
            "* * * * * \n",
            "* * * \n",
            "* \n"
          ]
        }
      ]
    },
    {
      "cell_type": "code",
      "source": [
        "# Pattern 4\n",
        "\n",
        "rows = int(input('Enter the number of rows you want: '))\n",
        "for i in range(rows):\n",
        "  for j in range(rows-i-1):\n",
        "    print(\" \", end = \" \")\n",
        "  for k in range(i+1):\n",
        "    print(\"*\", end = \" \")\n",
        "  print()"
      ],
      "metadata": {
        "colab": {
          "base_uri": "https://localhost:8080/"
        },
        "id": "N6giJas-3hV-",
        "outputId": "12d96e4f-82ae-4821-bd60-9c7158e03b4c"
      },
      "execution_count": null,
      "outputs": [
        {
          "output_type": "stream",
          "name": "stdout",
          "text": [
            "Enter the number of rows you want: 5\n",
            "        * \n",
            "      * * \n",
            "    * * * \n",
            "  * * * * \n",
            "* * * * * \n"
          ]
        }
      ]
    },
    {
      "cell_type": "code",
      "source": [
        "# Pattern 5\n",
        "\n",
        "rows = int(input('Enter the number of rows you want: '))\n",
        "for i in range(rows):\n",
        "  for j in range(i):\n",
        "    print(\" \", end = \" \")\n",
        "  for k in range(rows-i):\n",
        "    print(\"*\", end = \" \")\n",
        "  print()"
      ],
      "metadata": {
        "colab": {
          "base_uri": "https://localhost:8080/"
        },
        "id": "p3nb4c87-wpG",
        "outputId": "e7ea2e5b-793c-475d-eada-912a3d31ab4d"
      },
      "execution_count": null,
      "outputs": [
        {
          "output_type": "stream",
          "name": "stdout",
          "text": [
            "Enter the number of rows you want: 5\n",
            "* * * * * \n",
            "  * * * * \n",
            "    * * * \n",
            "      * * \n",
            "        * \n"
          ]
        }
      ]
    },
    {
      "cell_type": "code",
      "source": [
        "# Pattern 6\n",
        "\n",
        "rows = int(input('Enter the number of rows you want: '))\n",
        "for i in range(rows):\n",
        "  for j in range(rows-i-1):\n",
        "    print(end = \" \")\n",
        "  for k in range(i+1):\n",
        "    print(\"*\", end = \" \")\n",
        "  print()"
      ],
      "metadata": {
        "colab": {
          "base_uri": "https://localhost:8080/"
        },
        "id": "MpOPMSIEAIBO",
        "outputId": "aff886c2-498e-42bf-fdc2-1552fd8b3a58"
      },
      "execution_count": null,
      "outputs": [
        {
          "output_type": "stream",
          "name": "stdout",
          "text": [
            "Enter the number of rows you want: 5\n",
            "    * \n",
            "   * * \n",
            "  * * * \n",
            " * * * * \n",
            "* * * * * \n"
          ]
        }
      ]
    },
    {
      "cell_type": "code",
      "source": [
        "# Pattern 7\n",
        "\n",
        "rows = int(input('Enter the number of rows you want: '))\n",
        "for i in range(rows):\n",
        "  for j in range(i):\n",
        "    print(end = \" \")\n",
        "  for k in range(rows-i):\n",
        "    print(\"*\", end = \" \")\n",
        "  print()"
      ],
      "metadata": {
        "colab": {
          "base_uri": "https://localhost:8080/"
        },
        "id": "Iw4Mr6CXBOrF",
        "outputId": "a864908f-a5ea-4a6a-bc5f-7d8b908391d5"
      },
      "execution_count": null,
      "outputs": [
        {
          "output_type": "stream",
          "name": "stdout",
          "text": [
            "Enter the number of rows you want: 5\n",
            "* * * * * \n",
            " * * * * \n",
            "  * * * \n",
            "   * * \n",
            "    * \n"
          ]
        }
      ]
    },
    {
      "cell_type": "code",
      "source": [
        "# Pattern 8\n",
        "\n",
        "rows = int(input('Enter the number of rows you want: '))\n",
        "if rows%2 == 1:\n",
        "    for i in range(rows//2+1):\n",
        "      for j in range(rows-i-1):\n",
        "        print(end=\" \")\n",
        "      for k in range(i+1):\n",
        "        print(\"*\",end = \" \")\n",
        "      print()\n",
        "    for i in range(rows//2):\n",
        "      for j in range((rows//2)+(1+i)):\n",
        "        print(end=\" \")\n",
        "      for k in range((rows//2)-i):\n",
        "        print(\"*\",end = \" \")\n",
        "      print() \n",
        "else:\n",
        "  for i in range(rows//2):\n",
        "    for j in range((rows//2)-i-1):\n",
        "      print(end=\" \")\n",
        "    for k in range(i+1):\n",
        "      print(\"*\",end = \" \")\n",
        "    print()\n",
        "  for i in range(rows//2):\n",
        "    for j in range(i):\n",
        "      print(end=\" \")\n",
        "    for k in range((rows//2)-i):\n",
        "      print(\"*\",end = \" \")\n",
        "    print()"
      ],
      "metadata": {
        "colab": {
          "base_uri": "https://localhost:8080/"
        },
        "id": "GHqEhQnuCWMF",
        "outputId": "29fe26ed-24b2-4e02-a97b-ccf8328c4c08"
      },
      "execution_count": null,
      "outputs": [
        {
          "output_type": "stream",
          "name": "stdout",
          "text": [
            "Enter the number of rows you want: 11\n",
            "          * \n",
            "         * * \n",
            "        * * * \n",
            "       * * * * \n",
            "      * * * * * \n",
            "     * * * * * * \n",
            "      * * * * * \n",
            "       * * * * \n",
            "        * * * \n",
            "         * * \n",
            "          * \n"
          ]
        }
      ]
    },
    {
      "cell_type": "code",
      "source": [
        "# Pattern 9\n",
        "\n",
        "rows = int(input('Enter the number of rows: '))\n",
        "for row in range(rows):\n",
        "  for col in range(rows):\n",
        "    if row == 0 or col == (rows-1) or row == col:\n",
        "      print('*', end = \"\")\n",
        "    else:\n",
        "      print(end=\" \")\n",
        "  print()  \n",
        "\n"
      ],
      "metadata": {
        "id": "j5KplabrD8Vu",
        "colab": {
          "base_uri": "https://localhost:8080/"
        },
        "outputId": "c9e13966-4807-4a61-ba93-8fccc729ecdd"
      },
      "execution_count": null,
      "outputs": [
        {
          "output_type": "stream",
          "name": "stdout",
          "text": [
            "Enter the number of rows: 5\n",
            "*****\n",
            " *  *\n",
            "  * *\n",
            "   **\n",
            "    *\n"
          ]
        }
      ]
    },
    {
      "cell_type": "code",
      "source": [
        "# Pattern 10\n",
        "\n",
        "rows = int(input('Enter the number of rows: '))\n",
        "for row in range(rows):\n",
        "  for col in range(rows):\n",
        "    if row == 0 or col == 0 or row == (rows-1-col):\n",
        "      print(\"*\",end=\"\")\n",
        "    else:\n",
        "      print(end=\" \")\n",
        "  print()"
      ],
      "metadata": {
        "colab": {
          "base_uri": "https://localhost:8080/"
        },
        "id": "bzLAPCBBaiRi",
        "outputId": "8e2c02c2-b8dd-461a-fb5a-7bb6adf0b0ed"
      },
      "execution_count": null,
      "outputs": [
        {
          "output_type": "stream",
          "name": "stdout",
          "text": [
            "Enter the number of rows: 5\n",
            "*****\n",
            "*  * \n",
            "* *  \n",
            "**   \n",
            "*    \n"
          ]
        }
      ]
    },
    {
      "cell_type": "code",
      "source": [
        "# Pattern 11\n",
        "\n",
        "rows = int(input('Enter the number of rows: '))\n",
        "for row in range(rows):\n",
        "  for col in range(rows):\n",
        "    if row == (rows-1) or col == 0 or row == col:\n",
        "      print(\"*\",end=\"\")\n",
        "    else:\n",
        "      print(end = \" \")\n",
        "  print()"
      ],
      "metadata": {
        "colab": {
          "base_uri": "https://localhost:8080/"
        },
        "id": "tH27dp7Dd-Kn",
        "outputId": "d0e9903c-b682-46df-e16c-f35e899364fe"
      },
      "execution_count": null,
      "outputs": [
        {
          "output_type": "stream",
          "name": "stdout",
          "text": [
            "Enter the number of rows: 5\n",
            "*    \n",
            "**   \n",
            "* *  \n",
            "*  * \n",
            "*****\n"
          ]
        }
      ]
    },
    {
      "cell_type": "code",
      "source": [
        "# Pattern 11\n",
        "\n",
        "rows = int(input('Enter the number of rows: '))\n",
        "for row in range(rows):\n",
        "  for col in range(rows):\n",
        "    if row == (rows-1) or col == (rows-1) or row == (rows-1-col):\n",
        "      print(\"*\",end=\"\")\n",
        "    else:\n",
        "      print(end=\" \")\n",
        "  print()"
      ],
      "metadata": {
        "colab": {
          "base_uri": "https://localhost:8080/"
        },
        "id": "TVRkHPuYf9Xm",
        "outputId": "8e03111b-5ae7-486e-99f9-8cf77016ec48"
      },
      "execution_count": null,
      "outputs": [
        {
          "output_type": "stream",
          "name": "stdout",
          "text": [
            "Enter the number of rows: 5\n",
            "    *\n",
            "   **\n",
            "  * *\n",
            " *  *\n",
            "*****\n"
          ]
        }
      ]
    },
    {
      "cell_type": "code",
      "source": [
        "# Pattern 11\n",
        "\n",
        "rows = int(input('Enter the number of rows: '))\n",
        "if rows%2==1:\n",
        "  for row in range(rows):\n",
        "    for col in range(rows):\n",
        "      if row+col == rows//2 or col-row == rows//2 or row+col == (rows//2)*3 or row-col == (rows//2):\n",
        "        print(\"*\",end=\"\")\n",
        "      else:\n",
        "        print(end=\" \")\n",
        "    print()\n",
        "else:\n",
        "  for row in range(rows):\n",
        "    for col in range(rows):\n",
        "      if row+col == (rows//2)-1 or col-row == (rows//2) or row+col == (rows//2)*3-1 or row-col == (rows//2):\n",
        "        print(\"*\",end=\"\")\n",
        "      else:\n",
        "        print(end=\" \")\n",
        "    print()"
      ],
      "metadata": {
        "colab": {
          "base_uri": "https://localhost:8080/"
        },
        "id": "qUI4tMWBg1Uy",
        "outputId": "4bbe3349-9d62-4745-a6f6-91148d8685e1"
      },
      "execution_count": null,
      "outputs": [
        {
          "output_type": "stream",
          "name": "stdout",
          "text": [
            "Enter the number of rows: 11\n",
            "     *     \n",
            "    * *    \n",
            "   *   *   \n",
            "  *     *  \n",
            " *       * \n",
            "*         *\n",
            " *       * \n",
            "  *     *  \n",
            "   *   *   \n",
            "    * *    \n",
            "     *     \n"
          ]
        }
      ]
    },
    {
      "cell_type": "code",
      "source": [
        ""
      ],
      "metadata": {
        "id": "L-gUN2N60ZHF"
      },
      "execution_count": null,
      "outputs": []
    },
    {
      "cell_type": "code",
      "source": [
        ""
      ],
      "metadata": {
        "id": "wqg8ARA40ZFG"
      },
      "execution_count": null,
      "outputs": []
    },
    {
      "cell_type": "code",
      "source": [
        ""
      ],
      "metadata": {
        "id": "mci38SIb0ZCW"
      },
      "execution_count": null,
      "outputs": []
    }
  ]
}