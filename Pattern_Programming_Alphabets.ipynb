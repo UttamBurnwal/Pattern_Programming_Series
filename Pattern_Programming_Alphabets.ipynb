{
  "nbformat": 4,
  "nbformat_minor": 0,
  "metadata": {
    "colab": {
      "name": "Pattern Programming- Alphabets",
      "provenance": [],
      "collapsed_sections": []
    },
    "kernelspec": {
      "name": "python3",
      "display_name": "Python 3"
    },
    "language_info": {
      "name": "python"
    }
  },
  "cells": [
    {
      "cell_type": "code",
      "execution_count": 1,
      "metadata": {
        "colab": {
          "base_uri": "https://localhost:8080/"
        },
        "id": "mAvo9gcNQq02",
        "outputId": "009e7f10-551e-4a5f-d261-2412b030ed06"
      },
      "outputs": [
        {
          "output_type": "stream",
          "name": "stdout",
          "text": [
            "  * * *   \n",
            "*       * \n",
            "*       * \n",
            "* * * * * \n",
            "*       * \n",
            "*       * \n",
            "*       * \n"
          ]
        }
      ],
      "source": [
        "# Alphabet A\n",
        "\n",
        "for row in range(7):\n",
        "  for col in range(5):\n",
        "    if (row != 0 and (col == 0 or col == 4)) or ((row == 0 or row == 3) and (col >= 1 and col < 4)):\n",
        "      print(\"*\",end = \" \")\n",
        "    else:\n",
        "      print(\" \", end = \" \")\n",
        "  print()"
      ]
    },
    {
      "cell_type": "code",
      "source": [
        "# Alphabet B\n",
        "\n",
        "for row in range(7):\n",
        "  for col in range(5):\n",
        "    if (col == 0) or ((col != 4) and (row == 0 or row == 3 or row == 6)) or ((row != 0 and row != 3 and row != 6) and col == 4) :\n",
        "      print(\"*\",end = \" \")\n",
        "    else:\n",
        "      print(\" \",end = \" \")\n",
        "  print()"
      ],
      "metadata": {
        "colab": {
          "base_uri": "https://localhost:8080/"
        },
        "id": "85L77LDDRkG6",
        "outputId": "f1798b82-3652-46dd-bfa4-0154b2f58145"
      },
      "execution_count": 2,
      "outputs": [
        {
          "output_type": "stream",
          "name": "stdout",
          "text": [
            "* * * *   \n",
            "*       * \n",
            "*       * \n",
            "* * * *   \n",
            "*       * \n",
            "*       * \n",
            "* * * *   \n"
          ]
        }
      ]
    },
    {
      "cell_type": "code",
      "source": [
        "# Alphabet C\n",
        "\n",
        "for row in range(7):\n",
        "  for col in range(5):\n",
        "    if (col == 0 and (row != 0 and row != 6)) or ((row == 0 or row == 6) and col != 0):\n",
        "      print(\"*\",end = \" \")\n",
        "    else:\n",
        "      print(\" \",end = \" \")\n",
        "  print()"
      ],
      "metadata": {
        "colab": {
          "base_uri": "https://localhost:8080/"
        },
        "id": "7XUtov2RUgUh",
        "outputId": "ea95dcaf-d31a-4181-bdec-747e8ed2b28b"
      },
      "execution_count": 3,
      "outputs": [
        {
          "output_type": "stream",
          "name": "stdout",
          "text": [
            "  * * * * \n",
            "*         \n",
            "*         \n",
            "*         \n",
            "*         \n",
            "*         \n",
            "  * * * * \n"
          ]
        }
      ]
    },
    {
      "cell_type": "code",
      "source": [
        "# Alphabet D\n",
        "\n",
        "for row in range(7):\n",
        "  for col in range(5):\n",
        "    if (col == 0) or ((col >= 1 and col < 4) and (row == 0 or row == 6)) or (col == 4 and (row >=1 and row < 6)): \n",
        "      print(\"*\",end = \" \")\n",
        "    else:\n",
        "      print(\" \",end = \" \")\n",
        "  print()\n",
        "  "
      ],
      "metadata": {
        "colab": {
          "base_uri": "https://localhost:8080/"
        },
        "id": "sREIdLyKYIw4",
        "outputId": "90245ba3-fedb-415b-bec9-adc3abb0c059"
      },
      "execution_count": 4,
      "outputs": [
        {
          "output_type": "stream",
          "name": "stdout",
          "text": [
            "* * * *   \n",
            "*       * \n",
            "*       * \n",
            "*       * \n",
            "*       * \n",
            "*       * \n",
            "* * * *   \n"
          ]
        }
      ]
    },
    {
      "cell_type": "code",
      "source": [
        "# Alphabet E\n",
        "\n",
        "for row in range(7):\n",
        "  for col in range(5):\n",
        "    if (col == 0) or (row == 0 or row == 3 or row == 6):\n",
        "      print(\"*\",end = \" \")\n",
        "    else:\n",
        "      print(\" \", end = \" \")\n",
        "  print()"
      ],
      "metadata": {
        "colab": {
          "base_uri": "https://localhost:8080/"
        },
        "id": "x2lYlqchZbVa",
        "outputId": "b525749e-c837-4485-fd6e-8750507778e7"
      },
      "execution_count": 5,
      "outputs": [
        {
          "output_type": "stream",
          "name": "stdout",
          "text": [
            "* * * * * \n",
            "*         \n",
            "*         \n",
            "* * * * * \n",
            "*         \n",
            "*         \n",
            "* * * * * \n"
          ]
        }
      ]
    },
    {
      "cell_type": "code",
      "source": [
        "# Alphabet F\n",
        "\n",
        "for row in range(7):\n",
        "  for col in range(5):\n",
        "    if (col == 0) or (row == 0 or row == 3):\n",
        "      print(\"*\",end = \" \")\n",
        "    else:\n",
        "      print(\" \", end = \" \")\n",
        "  print()"
      ],
      "metadata": {
        "colab": {
          "base_uri": "https://localhost:8080/"
        },
        "id": "Rt9tFb8DbBPS",
        "outputId": "09131fb7-9086-4a73-ac63-49b8aae60c93"
      },
      "execution_count": 6,
      "outputs": [
        {
          "output_type": "stream",
          "name": "stdout",
          "text": [
            "* * * * * \n",
            "*         \n",
            "*         \n",
            "* * * * * \n",
            "*         \n",
            "*         \n",
            "*         \n"
          ]
        }
      ]
    },
    {
      "cell_type": "code",
      "source": [
        "# Alphabet G\n",
        "\n",
        "for row in range(7):\n",
        "  for col in range(5):\n",
        "    if (col == 0) or (row == 0) or (row == 3 and col != 1) or (col < 3 and row == 6) or ((col == 2 or col == 4) and (row != 1 and row != 2)) :\n",
        "      print(\"*\",end = \" \")\n",
        "    else:\n",
        "      print(\" \",end = \" \")\n",
        "  print()"
      ],
      "metadata": {
        "colab": {
          "base_uri": "https://localhost:8080/"
        },
        "id": "1nin6oqjbYJM",
        "outputId": "cbec27ed-1ba1-4e53-fa2b-62519f3c7f22"
      },
      "execution_count": 7,
      "outputs": [
        {
          "output_type": "stream",
          "name": "stdout",
          "text": [
            "* * * * * \n",
            "*         \n",
            "*         \n",
            "*   * * * \n",
            "*   *   * \n",
            "*   *   * \n",
            "* * *   * \n"
          ]
        }
      ]
    },
    {
      "cell_type": "code",
      "source": [
        "# Alphabet H\n",
        "\n",
        "for row in range(7):\n",
        "  for col in range(5):\n",
        "    if col == 0 or col == 4 or row == 3:\n",
        "      print(\"*\",end = \" \")\n",
        "    else:\n",
        "      print(\" \", end = \" \")\n",
        "  print()"
      ],
      "metadata": {
        "colab": {
          "base_uri": "https://localhost:8080/"
        },
        "id": "Fzn-YehfcUD1",
        "outputId": "0a742a5f-f362-4cec-9cd7-b83a74b0fc65"
      },
      "execution_count": 8,
      "outputs": [
        {
          "output_type": "stream",
          "name": "stdout",
          "text": [
            "*       * \n",
            "*       * \n",
            "*       * \n",
            "* * * * * \n",
            "*       * \n",
            "*       * \n",
            "*       * \n"
          ]
        }
      ]
    },
    {
      "cell_type": "code",
      "source": [
        "# Alphabet I\n",
        "\n",
        "for row in range(7):\n",
        "  for col in range(5):\n",
        "    if row == 0 or row == 6 or col == 2:\n",
        "      print(\"*\",end = \" \")\n",
        "    else:\n",
        "      print(\" \", end = \" \")\n",
        "  print()"
      ],
      "metadata": {
        "colab": {
          "base_uri": "https://localhost:8080/"
        },
        "id": "NLUW0bQ4eId0",
        "outputId": "af61f535-79d6-4c53-c69a-fa81f6126c69"
      },
      "execution_count": 9,
      "outputs": [
        {
          "output_type": "stream",
          "name": "stdout",
          "text": [
            "* * * * * \n",
            "    *     \n",
            "    *     \n",
            "    *     \n",
            "    *     \n",
            "    *     \n",
            "* * * * * \n"
          ]
        }
      ]
    },
    {
      "cell_type": "code",
      "source": [
        "# Alphabet J\n",
        "\n",
        "for row in range(7):\n",
        "  for col in range(5):\n",
        "    if (row == 0) or (col == 2) or (row == 6 and col < 3) or (col == 0 and row >=4):\n",
        "      print(\"*\",end = \" \")\n",
        "    else:\n",
        "      print(\" \", end = \" \")\n",
        "  print()"
      ],
      "metadata": {
        "colab": {
          "base_uri": "https://localhost:8080/"
        },
        "id": "cCvTNuHdeUUo",
        "outputId": "9de80686-e748-49cc-b36f-152e266884c7"
      },
      "execution_count": 10,
      "outputs": [
        {
          "output_type": "stream",
          "name": "stdout",
          "text": [
            "* * * * * \n",
            "    *     \n",
            "    *     \n",
            "    *     \n",
            "*   *     \n",
            "*   *     \n",
            "* * *     \n"
          ]
        }
      ]
    },
    {
      "cell_type": "code",
      "source": [
        "# Alphabet K\n",
        "\n",
        "for row in range(7):\n",
        "  for col in range(5):\n",
        "    if (col == 0) or (row + col == 3) or (row - col == 3):\n",
        "      print(\"*\",end = \" \")\n",
        "    else:\n",
        "      print(\" \", end = \" \")\n",
        "  print()"
      ],
      "metadata": {
        "colab": {
          "base_uri": "https://localhost:8080/"
        },
        "id": "9914kS3Qe0ze",
        "outputId": "c58d58e2-7e6d-45ef-baa6-c62b97098237"
      },
      "execution_count": 11,
      "outputs": [
        {
          "output_type": "stream",
          "name": "stdout",
          "text": [
            "*     *   \n",
            "*   *     \n",
            "* *       \n",
            "*         \n",
            "* *       \n",
            "*   *     \n",
            "*     *   \n"
          ]
        }
      ]
    },
    {
      "cell_type": "code",
      "source": [
        "# Alphabet L\n",
        "\n",
        "for row in range(7):\n",
        "  for col in range(5):\n",
        "    if (col == 0) or (row == 6):\n",
        "      print(\"*\",end = \" \")\n",
        "    else:\n",
        "      print(\" \", end = \" \")\n",
        "  print()"
      ],
      "metadata": {
        "colab": {
          "base_uri": "https://localhost:8080/"
        },
        "id": "joS7HqREgAB7",
        "outputId": "c0583dd7-6c8b-4ed5-c5f9-d294bf82b496"
      },
      "execution_count": 12,
      "outputs": [
        {
          "output_type": "stream",
          "name": "stdout",
          "text": [
            "*         \n",
            "*         \n",
            "*         \n",
            "*         \n",
            "*         \n",
            "*         \n",
            "* * * * * \n"
          ]
        }
      ]
    },
    {
      "cell_type": "code",
      "source": [
        "# Alphabet M\n",
        "\n",
        "for row in range(7):\n",
        "  for col in range(5):\n",
        "    if (col == 0) or (col == 4) or (row <=2 and (row - col == 0)) or (row <=2 and (row + col == 4)):\n",
        "      print(\"*\",end = \" \")\n",
        "    else:\n",
        "      print(\" \", end = \" \")\n",
        "  print()"
      ],
      "metadata": {
        "colab": {
          "base_uri": "https://localhost:8080/"
        },
        "id": "szmFxGqqgTnt",
        "outputId": "d54aafac-0169-4022-984e-fa52c9d7dfc9"
      },
      "execution_count": 13,
      "outputs": [
        {
          "output_type": "stream",
          "name": "stdout",
          "text": [
            "*       * \n",
            "* *   * * \n",
            "*   *   * \n",
            "*       * \n",
            "*       * \n",
            "*       * \n",
            "*       * \n"
          ]
        }
      ]
    },
    {
      "cell_type": "code",
      "source": [
        "# Alphabet N\n",
        "\n",
        "for row in range(7):\n",
        "  for col in range(7):\n",
        "    if (col == 0) or (col == 6) or (row == col):\n",
        "      print(\"*\",end = \" \")\n",
        "    else:\n",
        "      print(\" \", end = \" \")\n",
        "  print()"
      ],
      "metadata": {
        "colab": {
          "base_uri": "https://localhost:8080/"
        },
        "id": "VM1N2ttQhe9u",
        "outputId": "8c9e9664-7a1f-4230-cb31-ed786d7cf53b"
      },
      "execution_count": 14,
      "outputs": [
        {
          "output_type": "stream",
          "name": "stdout",
          "text": [
            "*           * \n",
            "* *         * \n",
            "*   *       * \n",
            "*     *     * \n",
            "*       *   * \n",
            "*         * * \n",
            "*           * \n"
          ]
        }
      ]
    },
    {
      "cell_type": "code",
      "source": [
        "# Alphabet O\n",
        "\n",
        "for row in range(7):\n",
        "  for col in range(5):\n",
        "    if ((col == 0 or col == 4) and (row != 0 and row != 6)) or ((row == 0 or row == 6) and (col >= 1 and col < 4)):\n",
        "      print(\"*\",end = \" \")\n",
        "    else:\n",
        "      print(\" \", end = \" \")\n",
        "  print()"
      ],
      "metadata": {
        "colab": {
          "base_uri": "https://localhost:8080/"
        },
        "id": "oIlMwWCcia9k",
        "outputId": "0ef3d289-1169-48a1-b635-20eb460dccbe"
      },
      "execution_count": 15,
      "outputs": [
        {
          "output_type": "stream",
          "name": "stdout",
          "text": [
            "  * * *   \n",
            "*       * \n",
            "*       * \n",
            "*       * \n",
            "*       * \n",
            "*       * \n",
            "  * * *   \n"
          ]
        }
      ]
    },
    {
      "cell_type": "code",
      "source": [
        "# Alphabet P\n",
        "\n",
        "for row in range(7):\n",
        "  for col in range(5):\n",
        "    if (col == 0) or ((row == 0 or row == 3) and (col >=1 and col < 4)) or (col == 4 and (row == 1 or row ==2)):\n",
        "      print(\"*\",end = \" \")\n",
        "    else:\n",
        "      print(\" \", end = \" \")\n",
        "  print()"
      ],
      "metadata": {
        "colab": {
          "base_uri": "https://localhost:8080/"
        },
        "id": "ANrvEEoCkazp",
        "outputId": "896feb73-5c31-4d79-f172-fe2cfe3f8c6c"
      },
      "execution_count": 16,
      "outputs": [
        {
          "output_type": "stream",
          "name": "stdout",
          "text": [
            "* * * *   \n",
            "*       * \n",
            "*       * \n",
            "* * * *   \n",
            "*         \n",
            "*         \n",
            "*         \n"
          ]
        }
      ]
    },
    {
      "cell_type": "code",
      "source": [
        "# Alphabet Q\n",
        "\n",
        "for row in range(8):\n",
        "  for col in range(7):\n",
        "    if ((col == 0 or col == 4) and (row > 0 and row < 6)) or ((row == 0 or row == 6) and (col >= 1 and col < 4)) or ((row > 5) and (row - col == 2)):\n",
        "      print(\"*\",end = \" \")\n",
        "    else:\n",
        "      print(\" \", end = \" \")\n",
        "  print()"
      ],
      "metadata": {
        "colab": {
          "base_uri": "https://localhost:8080/"
        },
        "id": "Aos4WTxUs2vE",
        "outputId": "2733c358-ca76-4029-cd80-d8620b6a24f1"
      },
      "execution_count": 17,
      "outputs": [
        {
          "output_type": "stream",
          "name": "stdout",
          "text": [
            "  * * *       \n",
            "*       *     \n",
            "*       *     \n",
            "*       *     \n",
            "*       *     \n",
            "*       *     \n",
            "  * * * *     \n",
            "          *   \n"
          ]
        }
      ]
    },
    {
      "cell_type": "code",
      "source": [
        "# Alphabet R\n",
        "\n",
        "for row in range(7):\n",
        "  for col in range(5):\n",
        "    if (col == 0) or ((row == 0 or row == 3) and (col >=1 and col < 4)) or (col == 4 and (row == 1 or row ==2)) or (row > 3 and (row - col == 2)):\n",
        "      print(\"*\",end = \" \")\n",
        "    else:\n",
        "      print(\" \", end = \" \")\n",
        "  print()"
      ],
      "metadata": {
        "colab": {
          "base_uri": "https://localhost:8080/"
        },
        "id": "NZ8CmncClb87",
        "outputId": "5f563396-5abf-49b4-80ea-062bebaea6e0"
      },
      "execution_count": 18,
      "outputs": [
        {
          "output_type": "stream",
          "name": "stdout",
          "text": [
            "* * * *   \n",
            "*       * \n",
            "*       * \n",
            "* * * *   \n",
            "*   *     \n",
            "*     *   \n",
            "*       * \n"
          ]
        }
      ]
    },
    {
      "cell_type": "code",
      "source": [
        "# Alphabet S\n",
        "\n",
        "for row in range(7):\n",
        "  for col in range(5):\n",
        "    if ((row == 0 or row == 3 or row == 6) and (col >=1 and col < 4 )) or ((col == 0) and (row == 1 or row == 2 or row == 5)) or ((col == 4) and (row == 1 or row == 4 or row == 5)):\n",
        "      print(\"*\",end = \" \")\n",
        "    else:\n",
        "      print(\" \", end = \" \")\n",
        "  print()"
      ],
      "metadata": {
        "colab": {
          "base_uri": "https://localhost:8080/"
        },
        "id": "4mXQBUd9l9yT",
        "outputId": "d6da6182-2d74-4bc9-fa06-1c3b40def7c3"
      },
      "execution_count": 19,
      "outputs": [
        {
          "output_type": "stream",
          "name": "stdout",
          "text": [
            "  * * *   \n",
            "*       * \n",
            "*         \n",
            "  * * *   \n",
            "        * \n",
            "*       * \n",
            "  * * *   \n"
          ]
        }
      ]
    },
    {
      "cell_type": "code",
      "source": [
        "# Alphabet T\n",
        "\n",
        "for row in range(7):\n",
        "  for col in range(5):\n",
        "    if (row == 0 or col == 2):\n",
        "      print(\"*\",end = \" \")\n",
        "    else:\n",
        "      print(\" \", end = \" \")\n",
        "  print()"
      ],
      "metadata": {
        "colab": {
          "base_uri": "https://localhost:8080/"
        },
        "id": "8cp3--j1nbIL",
        "outputId": "f52f7317-dddc-4ea6-ada1-c9747426791d"
      },
      "execution_count": 20,
      "outputs": [
        {
          "output_type": "stream",
          "name": "stdout",
          "text": [
            "* * * * * \n",
            "    *     \n",
            "    *     \n",
            "    *     \n",
            "    *     \n",
            "    *     \n",
            "    *     \n"
          ]
        }
      ]
    },
    {
      "cell_type": "code",
      "source": [
        "# Alphabet U\n",
        "\n",
        "for row in range(7):\n",
        "  for col in range(5):\n",
        "    if ((col == 0 or col == 4) and row < 6) or (row == 6 and (col >= 1 and col < 4)):\n",
        "      print(\"*\",end = \" \")\n",
        "    else:\n",
        "      print(\" \", end = \" \")\n",
        "  print()"
      ],
      "metadata": {
        "colab": {
          "base_uri": "https://localhost:8080/"
        },
        "id": "BoQLjM2zmrz6",
        "outputId": "9c8b0189-13e5-4ee9-db87-fc75f90ce709"
      },
      "execution_count": 21,
      "outputs": [
        {
          "output_type": "stream",
          "name": "stdout",
          "text": [
            "*       * \n",
            "*       * \n",
            "*       * \n",
            "*       * \n",
            "*       * \n",
            "*       * \n",
            "  * * *   \n"
          ]
        }
      ]
    },
    {
      "cell_type": "code",
      "source": [
        "# Alphabet V\n",
        "\n",
        "for row in range(7):\n",
        "  for col in range(13):\n",
        "    if (row == col) or (row + col == 12):\n",
        "      print(\"*\",end = \"\")\n",
        "    else:\n",
        "      print(end = \" \")\n",
        "  print()"
      ],
      "metadata": {
        "colab": {
          "base_uri": "https://localhost:8080/"
        },
        "id": "NbFmXmArnQa8",
        "outputId": "bee82da7-cc41-4931-c6c1-2b69f7f27e10"
      },
      "execution_count": 22,
      "outputs": [
        {
          "output_type": "stream",
          "name": "stdout",
          "text": [
            "*           *\n",
            " *         * \n",
            "  *       *  \n",
            "   *     *   \n",
            "    *   *    \n",
            "     * *     \n",
            "      *      \n"
          ]
        }
      ]
    },
    {
      "cell_type": "code",
      "source": [
        "# Alphabet W\n",
        "\n",
        "for row in range(7):\n",
        "  for col in range(9):\n",
        "    if (row < 5 and (col == 0 or col == 4 or col == 8)) or (row == 5 and col % 2 == 1) or ((row == 6) and (col == 2 or col == 6)):\n",
        "      print(\"*\",end = \"\")\n",
        "    else:\n",
        "      print(\" \",end = \"\")\n",
        "  print()"
      ],
      "metadata": {
        "colab": {
          "base_uri": "https://localhost:8080/"
        },
        "id": "oA4qZsVdoFFC",
        "outputId": "d562c64f-dc2d-4bdd-b5dd-d529e5e63d62"
      },
      "execution_count": 23,
      "outputs": [
        {
          "output_type": "stream",
          "name": "stdout",
          "text": [
            "*   *   *\n",
            "*   *   *\n",
            "*   *   *\n",
            "*   *   *\n",
            "*   *   *\n",
            " * * * * \n",
            "  *   *  \n"
          ]
        }
      ]
    },
    {
      "cell_type": "code",
      "source": [
        "# Alphabet X\n",
        "\n",
        "for row in range(7):\n",
        "  for col in range(9):\n",
        "    if (row == col) or (row + col == 6):\n",
        "      print(\"*\",end = \"\")\n",
        "    else:\n",
        "      print(\" \",end = \"\")\n",
        "  print()"
      ],
      "metadata": {
        "colab": {
          "base_uri": "https://localhost:8080/"
        },
        "id": "IIsrZ1oQo6zI",
        "outputId": "40945226-ffe4-40f9-b9bf-550bf22dd9cd"
      },
      "execution_count": 24,
      "outputs": [
        {
          "output_type": "stream",
          "name": "stdout",
          "text": [
            "*     *  \n",
            " *   *   \n",
            "  * *    \n",
            "   *     \n",
            "  * *    \n",
            " *   *   \n",
            "*     *  \n"
          ]
        }
      ]
    },
    {
      "cell_type": "code",
      "source": [
        "# Alphabet Y\n",
        "\n",
        "for row in range(7):\n",
        "  for col in range(9):\n",
        "    if (row <= 3 and (row == col or row + col == 6)) or ((row > 3) and col == 3):\n",
        "      print(\"*\",end = \"\")\n",
        "    else:\n",
        "      print(\" \",end = \"\")\n",
        "  print()"
      ],
      "metadata": {
        "colab": {
          "base_uri": "https://localhost:8080/"
        },
        "id": "0K6y9FlZpSWk",
        "outputId": "928526de-dbbe-4ea6-e7aa-7cd9798f69ed"
      },
      "execution_count": 25,
      "outputs": [
        {
          "output_type": "stream",
          "name": "stdout",
          "text": [
            "*     *  \n",
            " *   *   \n",
            "  * *    \n",
            "   *     \n",
            "   *     \n",
            "   *     \n",
            "   *     \n"
          ]
        }
      ]
    },
    {
      "cell_type": "code",
      "source": [
        "# Alphabet Z\n",
        "\n",
        "for row in range(7):\n",
        "  for col in range(7):\n",
        "    if (row == 0) or (row == 6) or (row + col == 6):\n",
        "      print(\"*\",end = \" \")\n",
        "    else:\n",
        "      print(\" \",end = \" \")\n",
        "  print()"
      ],
      "metadata": {
        "colab": {
          "base_uri": "https://localhost:8080/"
        },
        "id": "jgcZM9Y7r77Y",
        "outputId": "9bc183e3-3c0a-4fa6-99a7-2d21c1d9bb78"
      },
      "execution_count": 26,
      "outputs": [
        {
          "output_type": "stream",
          "name": "stdout",
          "text": [
            "* * * * * * * \n",
            "          *   \n",
            "        *     \n",
            "      *       \n",
            "    *         \n",
            "  *           \n",
            "* * * * * * * \n"
          ]
        }
      ]
    },
    {
      "cell_type": "code",
      "source": [
        ""
      ],
      "metadata": {
        "id": "_mVMzvHwscUQ"
      },
      "execution_count": 26,
      "outputs": []
    }
  ]
}